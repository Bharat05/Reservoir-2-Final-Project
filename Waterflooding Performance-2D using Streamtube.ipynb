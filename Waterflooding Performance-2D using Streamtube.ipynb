{
 "cells": [
  {
   "cell_type": "code",
   "execution_count": 33,
   "metadata": {
    "collapsed": false
   },
   "outputs": [],
   "source": [
    "import numpy as np\n",
    "# import matplotlib\n",
    "import matplotlib.pyplot as plt\n",
    "%matplotlib inline  \n",
    "import pandas as pd\n",
    "from pandas import DataFrame "
   ]
  },
  {
   "cell_type": "code",
   "execution_count": 34,
   "metadata": {
    "collapsed": false
   },
   "outputs": [
    {
     "name": "stdout",
     "output_type": "stream",
     "text": [
      "Enter the initial water saturation.363\n",
      "Enter the residual oil saturation.205\n"
     ]
    }
   ],
   "source": [
    "# Requesting  Siw Initial Water Saturation  and Sor Residual Oil Saturation input\n",
    "Siw_str = input('Enter the initial water saturation')  #default=.363\n",
    "Sor_str = input('Enter the residual oil saturation')   #default=.205\n",
    "\n",
    "# Converting to Float\n",
    "Siw = float(Siw_str)\n",
    "Sor = float(Sor_str)"
   ]
  },
  {
   "cell_type": "code",
   "execution_count": 35,
   "metadata": {
    "collapsed": false
   },
   "outputs": [
    {
     "name": "stdout",
     "output_type": "stream",
     "text": [
      "Enter the number of saturations you want to plot10000\n"
     ]
    }
   ],
   "source": [
    "# requesting input for No of Sw's for fw v/s Sw plot, the Sw grid resolution\n",
    "no_of_sats_str = input(\"Enter the number of saturations you want to plot\")  #default =10000 for higher accuracy\n",
    "\n",
    "#convert to integer\n",
    "no_of_sats = int(no_of_sats_str)\n",
    "\n"
   ]
  },
  {
   "cell_type": "code",
   "execution_count": 36,
   "metadata": {
    "collapsed": false
   },
   "outputs": [],
   "source": [
    "#initializaing Swd array \n",
    "Swd = np.empty([no_of_sats])\n",
    "\n",
    "#initializaing Sw array \n",
    "Sw = np.empty([no_of_sats])\n",
    "\n",
    "#Initializing kro\n",
    "kro = np.empty([no_of_sats])\n",
    "\n",
    "#Initializing krw\n",
    "krw = np.empty([no_of_sats])\n",
    "\n",
    "#Initializing krw\n",
    "fw = np.empty([no_of_sats])\n",
    "\n"
   ]
  },
  {
   "cell_type": "code",
   "execution_count": 37,
   "metadata": {
    "collapsed": false
   },
   "outputs": [
    {
     "name": "stdout",
     "output_type": "stream",
     "text": [
      "Please enter the alpha 11\n",
      "Please enter the alpha 2.78\n"
     ]
    }
   ],
   "source": [
    "# requesting input for alphas   \n",
    "alpha_1_str = input(\"Please enter the alpha 1\") #default 1.0\n",
    "alpha_2_str = input(\"Please enter the alpha 2\") #deafult .78\n",
    "\n",
    "# Converting to float\n",
    "alpha_1 = float(alpha_1_str)\n",
    "alpha_2 = float(alpha_2_str)\n",
    "\n"
   ]
  },
  {
   "cell_type": "code",
   "execution_count": 38,
   "metadata": {
    "collapsed": false
   },
   "outputs": [
    {
     "name": "stdout",
     "output_type": "stream",
     "text": [
      "Please enter the m2.56\n",
      "Please enter the n3.72\n"
     ]
    }
   ],
   "source": [
    "# requesting input for alphas\n",
    "m_str = input(\"Please enter the m\") #default=2.56\n",
    "n_str = input(\"Please enter the n\") #deafult= 3.72\n",
    "\n",
    "# Converting to float\n",
    "m = float(m_str)\n",
    "n = float(n_str)\n",
    "\n",
    "\n"
   ]
  },
  {
   "cell_type": "code",
   "execution_count": 39,
   "metadata": {
    "collapsed": false
   },
   "outputs": [
    {
     "name": "stdout",
     "output_type": "stream",
     "text": [
      "Please enter the viscosity of oil2\n",
      "Please enter the viscosity of water1\n"
     ]
    }
   ],
   "source": [
    "# requesting input for oil and water viscoity\n",
    "mu_oil_str = input(\"Please enter the viscosity of oil\")  #default 2\n",
    "mu_water_str = input(\"Please enter the viscosity of water\") #default 1\n",
    "\n",
    "# Converting to Float\n",
    "mu_oil = float(mu_oil_str)\n",
    "mu_water = float(mu_water_str)\n"
   ]
  },
  {
   "cell_type": "code",
   "execution_count": 40,
   "metadata": {
    "collapsed": false
   },
   "outputs": [
    {
     "data": {
      "text/plain": [
       "<matplotlib.legend.Legend at 0x205d5e199e8>"
      ]
     },
     "execution_count": 40,
     "metadata": {},
     "output_type": "execute_result"
    },
    {
     "data": {
      "image/png": "[encoded data removed]",
      "text/plain": [
       "<matplotlib.figure.Figure at 0x205d5dc54e0>"
      ]
     },
     "metadata": {},
     "output_type": "display_data"
    }
   ],
   "source": [
    "\n",
    "#Calculating fw and Sw array\n",
    "for i in range(no_of_sats):\n",
    "    Sw[0] = Siw    # Setting Siw as initial value of Sw\n",
    "    increment_Sw = (1-Siw-Sor)/no_of_sats #Increment in Sw for plot\n",
    "    Swd[i] = (Sw[i]-Siw)/(1-Sor-Siw)   # equation 3.111\n",
    "    kro[i] = alpha_1*(1-Swd[i])**m   # equation 3.109 \n",
    "    krw[i] = alpha_2*Swd[i]**n # equation 3.110\n",
    "    fw[i]= 1/( 1 + (kro[i]*mu_water)/(krw[i]*mu_oil)) \n",
    "    if i < no_of_sats - 1 :\n",
    "        Sw[i+1] = Sw[i] + increment_Sw\n",
    "\n",
    "        \n",
    "        \n",
    "plt.plot(Sw,kro, label='$k_{ro}$')\n",
    "plt_krw = plt.plot(Sw,krw,label='$k_{rw}$')\n",
    "plt.ylabel('$k_{ro}/K_{rw}$',fontsize = 16)\n",
    "plt.xlabel('$S_w$',fontsize = 16)\n",
    "plt.title('Rel Perm v/s $S_w$')\n",
    "plt.legend()\n",
    "\n",
    "       "
   ]
  },
  {
   "cell_type": "code",
   "execution_count": 41,
   "metadata": {
    "collapsed": false
   },
   "outputs": [
    {
     "name": "stdout",
     "output_type": "stream",
     "text": [
      "The water front saturations is =  0.6638448\n",
      "The slope of tangent line is = 2.97727434781\n"
     ]
    },
    {
     "data": {
      "text/plain": [
       "<matplotlib.lines.Line2D at 0x205d5f5ae48>"
      ]
     },
     "execution_count": 41,
     "metadata": {},
     "output_type": "execute_result"
    },
    {
     "data": {
      "image/png": "[encoded data removed]",
      "text/plain": [
       "<matplotlib.figure.Figure at 0x205d5f1d588>"
      ]
     },
     "metadata": {},
     "output_type": "display_data"
    }
   ],
   "source": [
    "\n",
    "\n",
    "# Generate a plot of fw v/s Sw\n",
    "fw_versus_Sw = plt.plot(Sw,fw,'r')\n",
    "plt.xlabel('$S_w$',fontsize = 16)\n",
    "plt.ylabel('$f_w$',fontsize = 16)\n",
    "plt.title('$f_w$ $v/s$ $S_w$',fontsize = 16)\n",
    "\n",
    "# calculating f'w\n",
    "fw_dash = np.diff(fw)/np.diff(Sw)\n",
    "b=[0]\n",
    "# adding one element to make no of fw_dash= no_of_Sats\n",
    "fw_dash = np.concatenate((fw_dash,b))\n",
    "\n",
    "#initalizing slope of line array\n",
    "slope_of_line = np.empty([no_of_sats])\n",
    "len(slope_of_line)\n",
    "\n",
    "#initializing y coordinate of line\n",
    "y=np.empty([no_of_sats])\n",
    "\n",
    "# calculating slope of line \n",
    "for i in range(no_of_sats):\n",
    "    slope_of_line[i] = (fw[i]-fw[0])/(Sw[i]-Sw[0])\n",
    "\n",
    "# criteria for matching the slope    \n",
    "for i in range(len(fw_dash)-1,0,-1):\n",
    "    if((slope_of_line[i] - fw_dash[i]) <= .0001):\n",
    "        Swf = Sw[i]\n",
    "        no_of_Swf = i\n",
    "        print('The water front saturations is = ',Swf)\n",
    "        m_line = slope_of_line[i]\n",
    "        print('The slope of tangent line is =', slope_of_line[i])\n",
    "        break\n",
    "        \n",
    "#calculating Sw_bar from interesction of tangent to fw and y=1\n",
    "for i in range(no_of_sats):\n",
    "    y[i] = m_line*Sw[i] - Siw*m_line\n",
    "\n",
    "Sw_bar= (1 + (Siw*m_line))/m_line\n",
    "Sw_bar\n",
    "\n",
    "plt.plot(Sw,y,'g')\n",
    "plt.axhline(y=1,)"
   ]
  },
  {
   "cell_type": "code",
   "execution_count": 42,
   "metadata": {
    "collapsed": false
   },
   "outputs": [
    {
     "name": "stderr",
     "output_type": "stream",
     "text": [
      "E:\\Anaconda3\\lib\\site-packages\\ipykernel\\__main__.py:3: FutureWarning: convert_objects is deprecated.  Use the data-type specific converters pd.to_datetime, pd.to_timedelta and pd.to_numeric.\n",
      "  app.launch_new_instance()\n"
     ]
    }
   ],
   "source": [
    "\n",
    "dframe=pd.read_csv('streamtube.csv')\n",
    "dframe.convert_objects(convert_numeric=True)\n",
    "\n",
    "# for cell count in stream tube\n",
    "cell_count = dframe.Cell_No.size"
   ]
  },
  {
   "cell_type": "code",
   "execution_count": 43,
   "metadata": {
    "collapsed": false
   },
   "outputs": [
    {
     "data": {
      "text/html": [
       "<div>\n",
       "<table border=\"1\" class=\"dataframe\">\n",
       "  <thead>\n",
       "    <tr style=\"text-align: right;\">\n",
       "      <th></th>\n",
       "      <th>Cell_No</th>\n",
       "      <th>Xi</th>\n",
       "      <th>A</th>\n",
       "      <th>V_j</th>\n",
       "      <th>ratio_Vj_VT</th>\n",
       "      <th>G_J</th>\n",
       "    </tr>\n",
       "  </thead>\n",
       "  <tbody>\n",
       "    <tr>\n",
       "      <th>0</th>\n",
       "      <td>0</td>\n",
       "      <td>0.50</td>\n",
       "      <td>0.12</td>\n",
       "      <td>0.00</td>\n",
       "      <td>0.000</td>\n",
       "      <td>0.00</td>\n",
       "    </tr>\n",
       "    <tr>\n",
       "      <th>1</th>\n",
       "      <td>1</td>\n",
       "      <td>52.78</td>\n",
       "      <td>12.90</td>\n",
       "      <td>340.31</td>\n",
       "      <td>0.030</td>\n",
       "      <td>19.07</td>\n",
       "    </tr>\n",
       "    <tr>\n",
       "      <th>2</th>\n",
       "      <td>2</td>\n",
       "      <td>74.64</td>\n",
       "      <td>18.24</td>\n",
       "      <td>680.62</td>\n",
       "      <td>0.050</td>\n",
       "      <td>1.42</td>\n",
       "    </tr>\n",
       "    <tr>\n",
       "      <th>3</th>\n",
       "      <td>3</td>\n",
       "      <td>91.41</td>\n",
       "      <td>22.34</td>\n",
       "      <td>1020.93</td>\n",
       "      <td>0.080</td>\n",
       "      <td>0.83</td>\n",
       "    </tr>\n",
       "    <tr>\n",
       "      <th>4</th>\n",
       "      <td>4</td>\n",
       "      <td>105.55</td>\n",
       "      <td>25.79</td>\n",
       "      <td>1361.24</td>\n",
       "      <td>0.100</td>\n",
       "      <td>0.59</td>\n",
       "    </tr>\n",
       "    <tr>\n",
       "      <th>5</th>\n",
       "      <td>5</td>\n",
       "      <td>118.01</td>\n",
       "      <td>28.84</td>\n",
       "      <td>1701.56</td>\n",
       "      <td>0.130</td>\n",
       "      <td>0.46</td>\n",
       "    </tr>\n",
       "    <tr>\n",
       "      <th>6</th>\n",
       "      <td>6</td>\n",
       "      <td>129.27</td>\n",
       "      <td>31.59</td>\n",
       "      <td>2041.87</td>\n",
       "      <td>0.150</td>\n",
       "      <td>0.37</td>\n",
       "    </tr>\n",
       "    <tr>\n",
       "      <th>7</th>\n",
       "      <td>7</td>\n",
       "      <td>139.63</td>\n",
       "      <td>34.12</td>\n",
       "      <td>2382.18</td>\n",
       "      <td>0.180</td>\n",
       "      <td>0.32</td>\n",
       "    </tr>\n",
       "    <tr>\n",
       "      <th>8</th>\n",
       "      <td>8</td>\n",
       "      <td>149.27</td>\n",
       "      <td>36.48</td>\n",
       "      <td>2722.49</td>\n",
       "      <td>0.200</td>\n",
       "      <td>0.27</td>\n",
       "    </tr>\n",
       "    <tr>\n",
       "      <th>9</th>\n",
       "      <td>9</td>\n",
       "      <td>158.33</td>\n",
       "      <td>38.69</td>\n",
       "      <td>3062.80</td>\n",
       "      <td>0.230</td>\n",
       "      <td>0.24</td>\n",
       "    </tr>\n",
       "    <tr>\n",
       "      <th>10</th>\n",
       "      <td>10</td>\n",
       "      <td>166.89</td>\n",
       "      <td>40.78</td>\n",
       "      <td>3403.11</td>\n",
       "      <td>0.250</td>\n",
       "      <td>0.22</td>\n",
       "    </tr>\n",
       "    <tr>\n",
       "      <th>11</th>\n",
       "      <td>11</td>\n",
       "      <td>175.04</td>\n",
       "      <td>42.77</td>\n",
       "      <td>3743.42</td>\n",
       "      <td>0.275</td>\n",
       "      <td>0.20</td>\n",
       "    </tr>\n",
       "    <tr>\n",
       "      <th>12</th>\n",
       "      <td>12</td>\n",
       "      <td>182.82</td>\n",
       "      <td>44.68</td>\n",
       "      <td>4083.73</td>\n",
       "      <td>0.300</td>\n",
       "      <td>0.18</td>\n",
       "    </tr>\n",
       "    <tr>\n",
       "      <th>13</th>\n",
       "      <td>13</td>\n",
       "      <td>190.29</td>\n",
       "      <td>46.50</td>\n",
       "      <td>4424.04</td>\n",
       "      <td>0.330</td>\n",
       "      <td>0.16</td>\n",
       "    </tr>\n",
       "    <tr>\n",
       "      <th>14</th>\n",
       "      <td>14</td>\n",
       "      <td>197.47</td>\n",
       "      <td>48.25</td>\n",
       "      <td>4764.35</td>\n",
       "      <td>0.350</td>\n",
       "      <td>0.15</td>\n",
       "    </tr>\n",
       "    <tr>\n",
       "      <th>15</th>\n",
       "      <td>15</td>\n",
       "      <td>204.40</td>\n",
       "      <td>49.95</td>\n",
       "      <td>5104.67</td>\n",
       "      <td>0.380</td>\n",
       "      <td>0.14</td>\n",
       "    </tr>\n",
       "    <tr>\n",
       "      <th>16</th>\n",
       "      <td>16</td>\n",
       "      <td>211.10</td>\n",
       "      <td>51.59</td>\n",
       "      <td>5444.98</td>\n",
       "      <td>0.400</td>\n",
       "      <td>0.13</td>\n",
       "    </tr>\n",
       "    <tr>\n",
       "      <th>17</th>\n",
       "      <td>17</td>\n",
       "      <td>217.60</td>\n",
       "      <td>53.17</td>\n",
       "      <td>5785.29</td>\n",
       "      <td>0.430</td>\n",
       "      <td>0.12</td>\n",
       "    </tr>\n",
       "    <tr>\n",
       "      <th>18</th>\n",
       "      <td>18</td>\n",
       "      <td>223.91</td>\n",
       "      <td>54.72</td>\n",
       "      <td>6125.60</td>\n",
       "      <td>0.450</td>\n",
       "      <td>0.12</td>\n",
       "    </tr>\n",
       "    <tr>\n",
       "      <th>19</th>\n",
       "      <td>19</td>\n",
       "      <td>230.04</td>\n",
       "      <td>56.21</td>\n",
       "      <td>6465.91</td>\n",
       "      <td>0.480</td>\n",
       "      <td>0.11</td>\n",
       "    </tr>\n",
       "    <tr>\n",
       "      <th>20</th>\n",
       "      <td>20</td>\n",
       "      <td>236.02</td>\n",
       "      <td>57.68</td>\n",
       "      <td>6806.22</td>\n",
       "      <td>0.500</td>\n",
       "      <td>0.11</td>\n",
       "    </tr>\n",
       "    <tr>\n",
       "      <th>21</th>\n",
       "      <td>21</td>\n",
       "      <td>242.00</td>\n",
       "      <td>56.21</td>\n",
       "      <td>7146.53</td>\n",
       "      <td>0.530</td>\n",
       "      <td>0.11</td>\n",
       "    </tr>\n",
       "    <tr>\n",
       "      <th>22</th>\n",
       "      <td>22</td>\n",
       "      <td>248.13</td>\n",
       "      <td>54.72</td>\n",
       "      <td>7486.84</td>\n",
       "      <td>0.550</td>\n",
       "      <td>0.11</td>\n",
       "    </tr>\n",
       "    <tr>\n",
       "      <th>23</th>\n",
       "      <td>23</td>\n",
       "      <td>254.44</td>\n",
       "      <td>53.17</td>\n",
       "      <td>7827.15</td>\n",
       "      <td>0.580</td>\n",
       "      <td>0.12</td>\n",
       "    </tr>\n",
       "    <tr>\n",
       "      <th>24</th>\n",
       "      <td>24</td>\n",
       "      <td>260.94</td>\n",
       "      <td>51.59</td>\n",
       "      <td>8167.46</td>\n",
       "      <td>0.600</td>\n",
       "      <td>0.12</td>\n",
       "    </tr>\n",
       "    <tr>\n",
       "      <th>25</th>\n",
       "      <td>25</td>\n",
       "      <td>267.64</td>\n",
       "      <td>49.95</td>\n",
       "      <td>8507.78</td>\n",
       "      <td>0.630</td>\n",
       "      <td>0.13</td>\n",
       "    </tr>\n",
       "    <tr>\n",
       "      <th>26</th>\n",
       "      <td>26</td>\n",
       "      <td>274.57</td>\n",
       "      <td>48.25</td>\n",
       "      <td>8848.09</td>\n",
       "      <td>0.650</td>\n",
       "      <td>0.14</td>\n",
       "    </tr>\n",
       "    <tr>\n",
       "      <th>27</th>\n",
       "      <td>27</td>\n",
       "      <td>281.75</td>\n",
       "      <td>46.50</td>\n",
       "      <td>9188.40</td>\n",
       "      <td>0.680</td>\n",
       "      <td>0.15</td>\n",
       "    </tr>\n",
       "    <tr>\n",
       "      <th>28</th>\n",
       "      <td>28</td>\n",
       "      <td>289.22</td>\n",
       "      <td>44.68</td>\n",
       "      <td>9528.71</td>\n",
       "      <td>0.700</td>\n",
       "      <td>0.16</td>\n",
       "    </tr>\n",
       "    <tr>\n",
       "      <th>29</th>\n",
       "      <td>29</td>\n",
       "      <td>297.00</td>\n",
       "      <td>42.77</td>\n",
       "      <td>9869.02</td>\n",
       "      <td>0.730</td>\n",
       "      <td>0.18</td>\n",
       "    </tr>\n",
       "    <tr>\n",
       "      <th>30</th>\n",
       "      <td>30</td>\n",
       "      <td>305.15</td>\n",
       "      <td>40.78</td>\n",
       "      <td>10209.33</td>\n",
       "      <td>0.750</td>\n",
       "      <td>0.20</td>\n",
       "    </tr>\n",
       "    <tr>\n",
       "      <th>31</th>\n",
       "      <td>31</td>\n",
       "      <td>313.71</td>\n",
       "      <td>38.69</td>\n",
       "      <td>10549.64</td>\n",
       "      <td>0.780</td>\n",
       "      <td>0.22</td>\n",
       "    </tr>\n",
       "    <tr>\n",
       "      <th>32</th>\n",
       "      <td>32</td>\n",
       "      <td>322.77</td>\n",
       "      <td>36.48</td>\n",
       "      <td>10889.95</td>\n",
       "      <td>0.800</td>\n",
       "      <td>0.24</td>\n",
       "    </tr>\n",
       "    <tr>\n",
       "      <th>33</th>\n",
       "      <td>33</td>\n",
       "      <td>332.41</td>\n",
       "      <td>34.12</td>\n",
       "      <td>11230.26</td>\n",
       "      <td>0.830</td>\n",
       "      <td>0.27</td>\n",
       "    </tr>\n",
       "    <tr>\n",
       "      <th>34</th>\n",
       "      <td>34</td>\n",
       "      <td>342.77</td>\n",
       "      <td>31.59</td>\n",
       "      <td>11570.57</td>\n",
       "      <td>0.850</td>\n",
       "      <td>0.32</td>\n",
       "    </tr>\n",
       "    <tr>\n",
       "      <th>35</th>\n",
       "      <td>35</td>\n",
       "      <td>354.03</td>\n",
       "      <td>28.84</td>\n",
       "      <td>11910.88</td>\n",
       "      <td>0.880</td>\n",
       "      <td>0.37</td>\n",
       "    </tr>\n",
       "    <tr>\n",
       "      <th>36</th>\n",
       "      <td>36</td>\n",
       "      <td>366.49</td>\n",
       "      <td>25.79</td>\n",
       "      <td>12251.20</td>\n",
       "      <td>0.900</td>\n",
       "      <td>0.46</td>\n",
       "    </tr>\n",
       "    <tr>\n",
       "      <th>37</th>\n",
       "      <td>37</td>\n",
       "      <td>380.63</td>\n",
       "      <td>22.34</td>\n",
       "      <td>12591.51</td>\n",
       "      <td>0.930</td>\n",
       "      <td>0.59</td>\n",
       "    </tr>\n",
       "    <tr>\n",
       "      <th>38</th>\n",
       "      <td>38</td>\n",
       "      <td>397.40</td>\n",
       "      <td>18.24</td>\n",
       "      <td>12931.82</td>\n",
       "      <td>0.950</td>\n",
       "      <td>0.83</td>\n",
       "    </tr>\n",
       "    <tr>\n",
       "      <th>39</th>\n",
       "      <td>39</td>\n",
       "      <td>419.26</td>\n",
       "      <td>12.90</td>\n",
       "      <td>13272.13</td>\n",
       "      <td>0.980</td>\n",
       "      <td>1.42</td>\n",
       "    </tr>\n",
       "    <tr>\n",
       "      <th>40</th>\n",
       "      <td>40</td>\n",
       "      <td>471.54</td>\n",
       "      <td>0.12</td>\n",
       "      <td>13612.44</td>\n",
       "      <td>1.000</td>\n",
       "      <td>19.07</td>\n",
       "    </tr>\n",
       "  </tbody>\n",
       "</table>\n",
       "</div>"
      ],
      "text/plain": [
       "    Cell_No      Xi      A       V_j  ratio_Vj_VT    G_J\n",
       "0         0    0.50   0.12      0.00        0.000   0.00\n",
       "1         1   52.78  12.90    340.31        0.030  19.07\n",
       "2         2   74.64  18.24    680.62        0.050   1.42\n",
       "3         3   91.41  22.34   1020.93        0.080   0.83\n",
       "4         4  105.55  25.79   1361.24        0.100   0.59\n",
       "5         5  118.01  28.84   1701.56        0.130   0.46\n",
       "6         6  129.27  31.59   2041.87        0.150   0.37\n",
       "7         7  139.63  34.12   2382.18        0.180   0.32\n",
       "8         8  149.27  36.48   2722.49        0.200   0.27\n",
       "9         9  158.33  38.69   3062.80        0.230   0.24\n",
       "10       10  166.89  40.78   3403.11        0.250   0.22\n",
       "11       11  175.04  42.77   3743.42        0.275   0.20\n",
       "12       12  182.82  44.68   4083.73        0.300   0.18\n",
       "13       13  190.29  46.50   4424.04        0.330   0.16\n",
       "14       14  197.47  48.25   4764.35        0.350   0.15\n",
       "15       15  204.40  49.95   5104.67        0.380   0.14\n",
       "16       16  211.10  51.59   5444.98        0.400   0.13\n",
       "17       17  217.60  53.17   5785.29        0.430   0.12\n",
       "18       18  223.91  54.72   6125.60        0.450   0.12\n",
       "19       19  230.04  56.21   6465.91        0.480   0.11\n",
       "20       20  236.02  57.68   6806.22        0.500   0.11\n",
       "21       21  242.00  56.21   7146.53        0.530   0.11\n",
       "22       22  248.13  54.72   7486.84        0.550   0.11\n",
       "23       23  254.44  53.17   7827.15        0.580   0.12\n",
       "24       24  260.94  51.59   8167.46        0.600   0.12\n",
       "25       25  267.64  49.95   8507.78        0.630   0.13\n",
       "26       26  274.57  48.25   8848.09        0.650   0.14\n",
       "27       27  281.75  46.50   9188.40        0.680   0.15\n",
       "28       28  289.22  44.68   9528.71        0.700   0.16\n",
       "29       29  297.00  42.77   9869.02        0.730   0.18\n",
       "30       30  305.15  40.78  10209.33        0.750   0.20\n",
       "31       31  313.71  38.69  10549.64        0.780   0.22\n",
       "32       32  322.77  36.48  10889.95        0.800   0.24\n",
       "33       33  332.41  34.12  11230.26        0.830   0.27\n",
       "34       34  342.77  31.59  11570.57        0.850   0.32\n",
       "35       35  354.03  28.84  11910.88        0.880   0.37\n",
       "36       36  366.49  25.79  12251.20        0.900   0.46\n",
       "37       37  380.63  22.34  12591.51        0.930   0.59\n",
       "38       38  397.40  18.24  12931.82        0.950   0.83\n",
       "39       39  419.26  12.90  13272.13        0.980   1.42\n",
       "40       40  471.54   0.12  13612.44        1.000  19.07"
      ]
     },
     "execution_count": 43,
     "metadata": {},
     "output_type": "execute_result"
    }
   ],
   "source": [
    "#dframe output chec\n",
    "dframe\n"
   ]
  },
  {
   "cell_type": "code",
   "execution_count": 44,
   "metadata": {
    "collapsed": false
   },
   "outputs": [
    {
     "data": {
      "text/plain": [
       "0       0.50\n",
       "1      52.78\n",
       "2      74.64\n",
       "3      91.41\n",
       "4     105.55\n",
       "5     118.01\n",
       "6     129.27\n",
       "7     139.63\n",
       "8     149.27\n",
       "9     158.33\n",
       "10    166.89\n",
       "11    175.04\n",
       "12    182.82\n",
       "13    190.29\n",
       "14    197.47\n",
       "15    204.40\n",
       "16    211.10\n",
       "17    217.60\n",
       "18    223.91\n",
       "19    230.04\n",
       "20    236.02\n",
       "21    242.00\n",
       "22    248.13\n",
       "23    254.44\n",
       "24    260.94\n",
       "25    267.64\n",
       "26    274.57\n",
       "27    281.75\n",
       "28    289.22\n",
       "29    297.00\n",
       "30    305.15\n",
       "31    313.71\n",
       "32    322.77\n",
       "33    332.41\n",
       "34    342.77\n",
       "35    354.03\n",
       "36    366.49\n",
       "37    380.63\n",
       "38    397.40\n",
       "39    419.26\n",
       "40    471.54\n",
       "Name: Xi, dtype: float64"
      ]
     },
     "execution_count": 44,
     "metadata": {},
     "output_type": "execute_result"
    }
   ],
   "source": [
    "dframe.Xi"
   ]
  },
  {
   "cell_type": "code",
   "execution_count": 83,
   "metadata": {
    "collapsed": false
   },
   "outputs": [],
   "source": [
    "# ask for Qi\n",
    "# displacement has to be advanced in time \n",
    "# for a particular qi, find out which streamtube cell has Sw = Swf\n",
    "# using in eqaution 4.57\n",
    "\n",
    "\n",
    "def Saturations_in_Streamtube():\n",
    "    f_prime_sw = np.empty(cell_count)\n",
    "      \n",
    "    #Qi_str = input('Please enter the no. of pore volumes injected')\n",
    "    #Qi = float(Qi_str)\n",
    "    import math\n",
    "    cell_with_swf = math.floor(m_line*Qi*cell_count) # using equation 4.57\n",
    "    cell_with_swf\n",
    "\n",
    "#then calculate f'sw from equation 4.54\n",
    "    for i in range(0,cell_with_swf):\n",
    "        f_prime_sw[i] = (dframe.ratio_Vj_VT[i])/Qi \n",
    "    \n",
    "#then calculate f'sw for cells ahead of waterfront\n",
    "    for i in range(cell_with_swf,cell_count):\n",
    "        f_prime_sw[i] =0\n",
    "    \n",
    "    Sw_j=np.empty(cell_count)\n",
    "\n",
    "# Finding Sw corresponding to fprime_sw or fw_dash \n",
    "    for j in range(0,cell_with_swf):\n",
    "        for i in range(no_of_sats):\n",
    "            if (abs(fw_dash[i]-f_prime_sw[j]) <= .01):\n",
    "                if((Sw[i])>Swf):\n",
    "                    Sw_j[j]=Sw[i]\n",
    "                              \n",
    "# Swj = 0 for cells ahead of waterfront                # then calculate S[w] for each J\n",
    "    for j in range(cell_with_swf,cell_count):\n",
    "        Sw_j[j]= Siw\n",
    "      \n",
    "    plt.plot(dframe.ratio_Vj_VT,Sw_j,label= 'Qi = %s'%(Qi)) #notice how to print the variable and text in legend \n",
    "    plt.legend()\n",
    "\n",
    "\n",
    "\n",
    "                \n"
   ]
  },
  {
   "cell_type": "code",
   "execution_count": 46,
   "metadata": {
    "collapsed": false
   },
   "outputs": [
    {
     "name": "stdout",
     "output_type": "stream",
     "text": [
      "Do you want to enter Water SaturationYes\n"
     ]
    }
   ],
   "source": [
    "manual=input('Do you want to enter Water Saturation')"
   ]
  },
  {
   "cell_type": "code",
   "execution_count": 84,
   "metadata": {
    "collapsed": false
   },
   "outputs": [
    {
     "data": {
      "image/png": "[encoded data removed]",
      "text/plain": [
       "<matplotlib.figure.Figure at 0x205d6244400>"
      ]
     },
     "metadata": {},
     "output_type": "display_data"
    }
   ],
   "source": [
    "if manual =='Yes':\n",
    "    Qi=.15\n",
    "    while Qi<=1/m_line:\n",
    "        Saturations_in_Streamtube()\n",
    "        Qi = Qi +.05\n",
    "    \n",
    "plt.savefig('destination_path.jpeg', format='jpeg', dpi=1000)\n"
   ]
  },
  {
   "cell_type": "code",
   "execution_count": 62,
   "metadata": {
    "collapsed": false
   },
   "outputs": [
    {
     "ename": "NameError",
     "evalue": "name 'fig' is not defined",
     "output_type": "error",
     "traceback": [
      "\u001b[1;31m---------------------------------------------------------------------------\u001b[0m",
      "\u001b[1;31mNameError\u001b[0m                                 Traceback (most recent call last)",
      "\u001b[1;32m<ipython-input-62-a85fca9f3fe4>\u001b[0m in \u001b[0;36m<module>\u001b[1;34m()\u001b[0m\n\u001b[1;32m----> 1\u001b[1;33m \u001b[0mfig\u001b[0m\u001b[1;33m.\u001b[0m\u001b[0msavefig\u001b[0m\u001b[1;33m(\u001b[0m\u001b[1;34m'myimage.svg'\u001b[0m\u001b[1;33m,\u001b[0m \u001b[0mformat\u001b[0m\u001b[1;33m=\u001b[0m\u001b[1;34m'svg'\u001b[0m\u001b[1;33m,\u001b[0m \u001b[0mdpi\u001b[0m\u001b[1;33m=\u001b[0m\u001b[1;36m1200\u001b[0m\u001b[1;33m)\u001b[0m\u001b[1;33m\u001b[0m\u001b[0m\n\u001b[0m\u001b[0;32m      2\u001b[0m \u001b[1;33m\u001b[0m\u001b[0m\n\u001b[0;32m      3\u001b[0m \u001b[1;33m\u001b[0m\u001b[0m\n\u001b[0;32m      4\u001b[0m \u001b[1;33m\u001b[0m\u001b[0m\n",
      "\u001b[1;31mNameError\u001b[0m: name 'fig' is not defined"
     ]
    }
   ],
   "source": [
    "fig.savefig('myimage.svg', format='svg', dpi=1200)\n",
    "\n",
    "\n",
    "\n"
   ]
  },
  {
   "cell_type": "code",
   "execution_count": 57,
   "metadata": {
    "collapsed": false
   },
   "outputs": [
    {
     "data": {
      "text/plain": [
       "0.33587767977610578"
      ]
     },
     "execution_count": 57,
     "metadata": {},
     "output_type": "execute_result"
    }
   ],
   "source": [
    "1/m_line"
   ]
  },
  {
   "cell_type": "code",
   "execution_count": null,
   "metadata": {
    "collapsed": true
   },
   "outputs": [],
   "source": []
  },
  {
   "cell_type": "code",
   "execution_count": null,
   "metadata": {
    "collapsed": true
   },
   "outputs": [],
   "source": [
    "(Sw_j.mean() -Siw)"
   ]
  },
  {
   "cell_type": "code",
   "execution_count": null,
   "metadata": {
    "collapsed": false
   },
   "outputs": [],
   "source": [
    "#initializing Apparent Viscosity Array\n",
    "vis_ap =np.empty(no_of_sats)"
   ]
  },
  {
   "cell_type": "code",
   "execution_count": null,
   "metadata": {
    "collapsed": true
   },
   "outputs": [],
   "source": []
  },
  {
   "cell_type": "code",
   "execution_count": null,
   "metadata": {
    "collapsed": false
   },
   "outputs": [],
   "source": [
    "#apparent viscosity for Sw<Swf\n",
    "vis_ap_ro = 1/((kro[0]/mu_oil))\n",
    "print(vis_ap_ro)\n",
    "\n",
    "#apparent viscosity for 1-Sor>Sw>Swf    \n",
    "for i in range(no_of_Swf,no_of_sats):\n",
    "    vis_ap[i] = 1/((kro[i]/mu_oil) + (krw[i]/mu_water))\n"
   ]
  },
  {
   "cell_type": "code",
   "execution_count": null,
   "metadata": {
    "collapsed": false
   },
   "outputs": [],
   "source": [
    "# apparent viscosity calcualtion for breakthrough Swf using trapezoidal method\n",
    "# -ve sign is to compensate for limits of intergration from  f'sw2(swf in this case for breakthrough) to zero instead of zero to\n",
    "# f'sw2\n",
    "-np.trapz(vis_ap[no_of_Swf:],fw_dash[no_of_Swf:])/fw_dash[no_of_Swf]\n",
    "\n",
    "\n",
    "#use this to calculate q@breakthrough from equation 3.125"
   ]
  },
  {
   "cell_type": "code",
   "execution_count": null,
   "metadata": {
    "collapsed": false
   },
   "outputs": [],
   "source": [
    "plt.plot(fw_dash[no_of_Swf:],vis_ap[no_of_Swf:])\n",
    "plt.xlabel(\"$f'_{Sw}$\",fontsize=16)\n",
    "plt.ylabel(r\"$\\lambda$$^{-1}$\",fontsize=16)\n",
    "plt.title(r\"$\\lambda$$^{-1}$ $v/s$ $f'_{Sw}$\" ,fontsize=16)\n"
   ]
  },
  {
   "cell_type": "code",
   "execution_count": null,
   "metadata": {
    "collapsed": false
   },
   "outputs": [],
   "source": [
    "#initializing Q_inj, Apparent Viscoisty and Sw2 Arrays\n",
    "Q_inj=np.empty(no_of_sats)\n",
    "apvis=np.empty(no_of_sats)\n",
    "Sw2=np.empty(no_of_sats)\n",
    "\n"
   ]
  },
  {
   "cell_type": "code",
   "execution_count": null,
   "metadata": {
    "collapsed": false
   },
   "outputs": [],
   "source": [
    "#calculating apvis for various all Sw>Swf\n",
    "for i in range(no_of_Swf+1,no_of_sats):\n",
    "    Sw2[i]=Sw[i]\n",
    "    Q_inj[i]=1/fw_dash[i]\n",
    "    apvis[i]=-np.trapz(vis_ap[i:],fw_dash[i:])/fw_dash[i]"
   ]
  },
  {
   "cell_type": "code",
   "execution_count": null,
   "metadata": {
    "collapsed": true
   },
   "outputs": [],
   "source": [
    "#creating a dataframe of f'sw , apvis, Sw2, Q_inj\n",
    "d = {\"f'sw\":fw_dash[no_of_Swf+1:], 'Apvis':apvis[no_of_Swf+1:],'Q_inj': Q_inj[no_of_Swf+1:]}\n",
    "df = pd.DataFrame(data=d,index = Sw2[no_of_Swf+1:])\n",
    "df.index.name = 'Sw2'"
   ]
  },
  {
   "cell_type": "code",
   "execution_count": null,
   "metadata": {
    "collapsed": false
   },
   "outputs": [],
   "source": [
    "#increasing display of maximum no of rows displayed in Dataframe\n",
    "pd.set_option('display.max_rows', 2000)\n",
    "df"
   ]
  },
  {
   "cell_type": "code",
   "execution_count": null,
   "metadata": {
    "collapsed": false
   },
   "outputs": [],
   "source": [
    "#just a check\n",
    "plt.plot(Sw2[no_of_Swf+1:],apvis[no_of_Swf+1:])"
   ]
  },
  {
   "cell_type": "code",
   "execution_count": null,
   "metadata": {
    "collapsed": false
   },
   "outputs": [],
   "source": []
  },
  {
   "cell_type": "code",
   "execution_count": null,
   "metadata": {
    "collapsed": true
   },
   "outputs": [],
   "source": []
  }
 ],
 "metadata": {
  "kernelspec": {
   "display_name": "Python 3",
   "language": "python",
   "name": "python3"
  },
  "language_info": {
   "codemirror_mode": {
    "name": "ipython",
    "version": 3
   },
   "file_extension": ".py",
   "mimetype": "text/x-python",
   "name": "python",
   "nbconvert_exporter": "python",
   "pygments_lexer": "ipython3",
   "version": "3.5.1"
  }
 },
 "nbformat": 4,
 "nbformat_minor": 0
}
